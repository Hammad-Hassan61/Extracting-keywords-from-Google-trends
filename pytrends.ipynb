{
 "cells": [
  {
   "cell_type": "code",
   "execution_count": 364,
   "metadata": {
    "collapsed": true,
    "ExecuteTime": {
     "end_time": "2024-02-04T19:21:38.028719300Z",
     "start_time": "2024-02-04T19:21:36.805064400Z"
    }
   },
   "outputs": [],
   "source": [
    "import pandas as pd\n",
    "from pytrends.request import TrendReq\n",
    "import matplotlib.pyplot as plt\n",
    "from matplotlib.backends.backend_pdf import PdfPages\n"
   ]
  },
  {
   "cell_type": "code",
   "execution_count": null,
   "outputs": [],
   "source": [
    "pytrend = TrendReq()"
   ],
   "metadata": {
    "collapsed": false
   }
  },
  {
   "cell_type": "code",
   "execution_count": null,
   "outputs": [],
   "source": [
    "searchwords = ['web developer','website development service']\n",
    "pytrend.build_payload(kw_list=searchwords)\n",
    "# Related Queries\n",
    "related_queries = pytrend.related_queries()"
   ],
   "metadata": {
    "collapsed": false
   }
  },
  {
   "cell_type": "code",
   "execution_count": null,
   "outputs": [],
   "source": [
    "#Extracting terms\n",
    "terms_list = []\n",
    "\n",
    "for queries_type, df in related_queries.items():\n",
    "    if df is not None:\n",
    "        terms_list.extend(df['top']['query'].tolist())\n",
    "        terms_list.extend(df['rising']['query'].tolist())\n"
   ],
   "metadata": {
    "collapsed": false
   }
  },
  {
   "cell_type": "code",
   "execution_count": null,
   "outputs": [],
   "source": [
    "#Cleaning terms\n",
    "words_to_filter = ['job', 'salary', 'india','internship','intern','student','chat','what','series','course','roadmap']\n",
    "min_length = 6\n",
    "max_length = 30\n",
    "\n",
    "# Clean the terms list\n",
    "cleaned_terms = [term for term in terms_list if\n",
    "                 not any(word in term.lower() for word in words_to_filter) and\n",
    "                 len(term) > min_length and\n",
    "                 len(term) <= max_length]\n"
   ],
   "metadata": {
    "collapsed": false
   }
  },
  {
   "cell_type": "code",
   "execution_count": null,
   "outputs": [],
   "source": [
    "#Appending to searchwords\n",
    "searchword = cleaned_terms + searchwords\n",
    "searchword = list(set(searchword))\n",
    "\n",
    "# Split the list into smaller lists with a maximum of 5 elements each\n",
    "split_searchword = [searchword[i:i+5] for i in range(0, len(searchword), 5)]\n",
    "\n",
    "final_df = pd.DataFrame()\n",
    "\n",
    "for word_list in split_searchword:\n",
    "    pytrend.build_payload(kw_list=word_list)\n",
    "    df = pytrend.interest_by_region()\n",
    "    final_df = pd.concat([final_df, df], ignore_index=False)  # Append along rows\n",
    "\n",
    "# Aggregate the data by taking the maximum value for each column for each country\n",
    "final_df = final_df.groupby('geoName').max()\n",
    "\n",
    "# Print or use the final DataFrame\n",
    "print(final_df)\n"
   ],
   "metadata": {
    "collapsed": false
   }
  },
  {
   "cell_type": "code",
   "execution_count": null,
   "outputs": [],
   "source": [
    "#Cleaning final_df\n",
    "final_df.fillna(0, inplace=True)"
   ],
   "metadata": {
    "collapsed": false
   }
  },
  {
   "cell_type": "code",
   "execution_count": null,
   "outputs": [],
   "source": [
    "# Extract top  countries for each column\n",
    "top_countries = {}\n",
    "common_countries = set()\n",
    "num = 50\n",
    "for column in final_df.columns:\n",
    "    sorted_df = final_df.sort_values(by=column, ascending=False).reset_index()\n",
    "    # Check if the top value for the column is not zero\n",
    "    if sorted_df.iloc[0][column] != 0:\n",
    "        common_countries.update(sorted_df.head(num)['geoName'])\n",
    "        top_countries[column] = sorted_df.head(num)\n",
    "\n"
   ],
   "metadata": {
    "collapsed": false
   }
  },
  {
   "cell_type": "code",
   "execution_count": null,
   "outputs": [],
   "source": [
    "# Export each DataFrame as CSV\n",
    "\n",
    "# for column, df_top in top_countries.items():\n",
    "#     filename = f\"{column}_top_countries.csv\"\n",
    "#     df_top.to_csv(filename)\n",
    "#     print(f\"Exported {filename}\")"
   ],
   "metadata": {
    "collapsed": false
   }
  },
  {
   "cell_type": "code",
   "execution_count": 365,
   "outputs": [
    {
     "name": "stdout",
     "output_type": "stream",
     "text": [
      "Plots have been saved to top_countries_plots.pdf\n"
     ]
    }
   ],
   "source": [
    "# Create a PDF file to save the plots\n",
    "with PdfPages('top_countries_plots.pdf') as pdf:\n",
    "    # Plot top countries for each column separately\n",
    "    for column, top_df in top_countries.items():\n",
    "        plt.figure(figsize=(10, 6))\n",
    "        plt.bar(top_df['geoName'], top_df[column])\n",
    "        plt.title(f\"Top Countries for {column}\")\n",
    "        plt.xlabel('Country')\n",
    "        plt.ylabel('Interest')\n",
    "        plt.xticks(rotation=45, ha='right')\n",
    "        plt.tight_layout()  # Adjust layout to prevent overlap\n",
    "        #plt.show()\n",
    "\n",
    "        pdf.savefig()\n",
    "        plt.close()  # Close the current plot to release memory\n",
    "\n",
    "# Print a message indicating the PDF file has been saved\n",
    "print(\"Plots have been saved to top_countries_plots.pdf\")\n"
   ],
   "metadata": {
    "collapsed": false,
    "ExecuteTime": {
     "end_time": "2024-02-04T19:22:09.796938400Z",
     "start_time": "2024-02-04T19:21:42.926727300Z"
    }
   }
  },
  {
   "cell_type": "code",
   "execution_count": null,
   "outputs": [],
   "source": [
    "# Calculate the sum of values in each row across columns\n",
    "row_sum = final_df.sum(axis=1)\n",
    "num_columns = len(final_df.columns) - 1  # Subtracting 1 for the country name column\n",
    "final_df['Average'] = row_sum / num_columns\n",
    "sorted_final = final_df.sort_values(by = 'Average', ascending = False)"
   ],
   "metadata": {
    "collapsed": false
   }
  },
  {
   "cell_type": "code",
   "execution_count": null,
   "outputs": [],
   "source": [
    "sorted_final.to_csv(\"Final.csv\")"
   ],
   "metadata": {
    "collapsed": false
   }
  },
  {
   "cell_type": "code",
   "execution_count": 367,
   "outputs": [],
   "source": [
    "number = 50\n",
    "with PdfPages('final_countires.pdf') as pdf:\n",
    "    plt.figure(figsize=(12, 8))\n",
    "    plt.bar(sorted_final.reset_index().head(number)['geoName'], sorted_final.head(number)['Average'])\n",
    "    plt.title('Average Interest by Country')\n",
    "    plt.xlabel('Country')\n",
    "    plt.ylabel('Average Interest')\n",
    "    plt.xticks(rotation=45, ha='right')\n",
    "    plt.tight_layout()\n",
    "    #plt.show()\n",
    "    pdf.savefig()\n",
    "    plt.close()"
   ],
   "metadata": {
    "collapsed": false,
    "ExecuteTime": {
     "end_time": "2024-02-04T19:25:24.079232900Z",
     "start_time": "2024-02-04T19:25:21.684267300Z"
    }
   }
  },
  {
   "cell_type": "code",
   "execution_count": null,
   "outputs": [],
   "source": [],
   "metadata": {
    "collapsed": false
   }
  }
 ],
 "metadata": {
  "kernelspec": {
   "display_name": "Python 3",
   "language": "python",
   "name": "python3"
  },
  "language_info": {
   "codemirror_mode": {
    "name": "ipython",
    "version": 2
   },
   "file_extension": ".py",
   "mimetype": "text/x-python",
   "name": "python",
   "nbconvert_exporter": "python",
   "pygments_lexer": "ipython2",
   "version": "2.7.6"
  }
 },
 "nbformat": 4,
 "nbformat_minor": 0
}
